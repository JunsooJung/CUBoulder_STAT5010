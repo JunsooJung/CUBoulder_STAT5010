{
  "cells": [
    {
      "cell_type": "markdown",
      "metadata": {
        "id": "yr-oFGI_QITb"
      },
      "source": [
        "# Final Description\n",
        "\n",
        "Conduct a thorough analysis of a data set using statistical modeling techniques that we have learned in this class. I expect you to include a minimum of 5 of the major concepts that we have discussed in class this semester. Below is a listing of techniques you may choose from.\n",
        "\n",
        "\n",
        "\n",
        "*   hypothesis testing\n",
        "*   hypothesis testing with randomization\n",
        "*   confidence intervals\n",
        "*   bootstrapping\n",
        "*   regression modeling\n",
        "*   diagnostics of the model – goodness of fit, feature selection, residuals\n",
        "*   t-tests\n",
        "*   F-tests\n",
        "*   Causal Inference\n",
        "*   Bayesian networks\n",
        "*   ANOVA\n",
        "*   Model Selection – AIC, BIC, MSPE, R^2, Ra^2\n",
        "*   Generalized Linear Modeling\n",
        "\n",
        "\n",
        "You will be expected to show your work and process in a jupyter notebook. The last markdown cell should formally describe your results. You should think of the last markdown cell as writing a 1-2 page “paper”.  I expect 400-500 words.\n",
        "\n",
        "\n",
        "\n",
        "Please see this description Download this descriptionfor full details including a grading rubric."
      ]
    },
    {
      "cell_type": "markdown",
      "metadata": {
        "id": "PooXB8aFPEle"
      },
      "source": [
        "#Junsoo Jung _ Final project _ Stat 5010"
      ]
    },
    {
      "cell_type": "markdown",
      "metadata": {
        "id": "34Ex05WV2VR2"
      },
      "source": [
        "## Dataset Explanation/Analysis/Cleaning"
      ]
    },
    {
      "cell_type": "code",
      "execution_count": 2,
      "metadata": {
        "colab": {
          "base_uri": "https://localhost:8080/",
          "height": 0
        },
        "id": "yhh3B2PbWn8P",
        "outputId": "5f1c056d-2ea5-4386-f90a-3c534fc656c6"
      },
      "outputs": [
        {
          "output_type": "stream",
          "name": "stderr",
          "text": [
            "Installing package into ‘/usr/local/lib/R/site-library’\n",
            "(as ‘lib’ is unspecified)\n",
            "\n",
            "Installing package into ‘/usr/local/lib/R/site-library’\n",
            "(as ‘lib’ is unspecified)\n",
            "\n",
            "also installing the dependencies ‘numDeriv’, ‘SparseM’, ‘MatrixModels’, ‘minqa’, ‘nloptr’, ‘Rcpp’, ‘RcppEigen’, ‘carData’, ‘abind’, ‘pbkrtest’, ‘quantreg’, ‘lme4’\n",
            "\n",
            "\n",
            "Installing package into ‘/usr/local/lib/R/site-library’\n",
            "(as ‘lib’ is unspecified)\n",
            "\n",
            "Installing package into ‘/usr/local/lib/R/site-library’\n",
            "(as ‘lib’ is unspecified)\n",
            "\n",
            "Installing package into ‘/usr/local/lib/R/site-library’\n",
            "(as ‘lib’ is unspecified)\n",
            "\n",
            "also installing the dependencies ‘listenv’, ‘parallelly’, ‘future’, ‘globals’, ‘shape’, ‘future.apply’, ‘progressr’, ‘SQUAREM’, ‘diagram’, ‘lava’, ‘prodlim’, ‘proxy’, ‘iterators’, ‘clock’, ‘gower’, ‘hardhat’, ‘ipred’, ‘timeDate’, ‘e1071’, ‘foreach’, ‘ModelMetrics’, ‘plyr’, ‘pROC’, ‘recipes’, ‘reshape2’\n",
            "\n",
            "\n",
            "Installing package into ‘/usr/local/lib/R/site-library’\n",
            "(as ‘lib’ is unspecified)\n",
            "\n",
            "Installing package into ‘/usr/local/lib/R/site-library’\n",
            "(as ‘lib’ is unspecified)\n",
            "\n",
            "'getOption(\"repos\")' replaces Bioconductor standard repositories, see\n",
            "'help(\"repositories\", package = \"BiocManager\")' for details.\n",
            "Replacement repositories:\n",
            "    CRAN: https://cran.rstudio.com\n",
            "\n",
            "Bioconductor version 3.18 (BiocManager 1.30.22), R 4.3.3 (2024-02-29)\n",
            "\n",
            "Installing package(s) 'BiocVersion', 'Rgraphviz'\n",
            "\n",
            "also installing the dependencies ‘BiocGenerics’, ‘graph’\n",
            "\n",
            "\n",
            "Old packages: 'bit', 'brio', 'bslib', 'callr', 'curl', 'data.table', 'DBI',\n",
            "  'dbplyr', 'devtools', 'digest', 'fs', 'gargle', 'ggplot2', 'gh', 'gtable',\n",
            "  'highr', 'htmltools', 'httr2', 'isoband', 'knitr', 'munsell', 'openssl',\n",
            "  'pkgbuild', 'processx', 'ragg', 'remotes', 'rmarkdown', 'rstudioapi',\n",
            "  'rvest', 'sass', 'systemfonts', 'testthat', 'textshaping', 'tidyselect',\n",
            "  'tinytex', 'usethis', 'whisker', 'xfun', 'xopen', 'zip', 'codetools',\n",
            "  'lattice', 'nlme', 'survival'\n",
            "\n"
          ]
        }
      ],
      "source": [
        "# Bunch of installments\n",
        "\n",
        "#install.packages(\"lubridate\")\n",
        "#install.packages(\"car\")\n",
        "#install.packages(\"bnlearn\")\n",
        "#install.packages(\"BiocManager\")\n",
        "#install.packages(\"caret\")\n",
        "#install.packages(\"randomForest\")\n",
        "#install.packages(\"Metrics\")\n",
        "#BiocManager::install(\"Rgraphviz\")"
      ]
    },
    {
      "cell_type": "code",
      "execution_count": 3,
      "metadata": {
        "colab": {
          "base_uri": "https://localhost:8080/",
          "height": 0
        },
        "id": "CcHW8KZ4T2GD",
        "outputId": "e7eb1538-5799-4b43-d390-659d74a5afc0"
      },
      "outputs": [
        {
          "output_type": "stream",
          "name": "stderr",
          "text": [
            "Loading required package: carData\n",
            "\n",
            "\n",
            "Attaching package: ‘car’\n",
            "\n",
            "\n",
            "The following object is masked from ‘package:dplyr’:\n",
            "\n",
            "    recode\n",
            "\n",
            "\n",
            "Loading required package: lattice\n",
            "\n",
            "randomForest 4.7-1.1\n",
            "\n",
            "Type rfNews() to see new features/changes/bug fixes.\n",
            "\n",
            "\n",
            "Attaching package: ‘randomForest’\n",
            "\n",
            "\n",
            "The following object is masked from ‘package:ggplot2’:\n",
            "\n",
            "    margin\n",
            "\n",
            "\n",
            "The following object is masked from ‘package:dplyr’:\n",
            "\n",
            "    combine\n",
            "\n",
            "\n",
            "\n",
            "Attaching package: ‘Metrics’\n",
            "\n",
            "\n",
            "The following objects are masked from ‘package:caret’:\n",
            "\n",
            "    precision, recall\n",
            "\n",
            "\n",
            "Loading required package: graph\n",
            "\n",
            "Loading required package: BiocGenerics\n",
            "\n",
            "\n",
            "Attaching package: ‘BiocGenerics’\n",
            "\n",
            "\n",
            "The following object is masked from ‘package:randomForest’:\n",
            "\n",
            "    combine\n",
            "\n",
            "\n",
            "The following object is masked from ‘package:bnlearn’:\n",
            "\n",
            "    score\n",
            "\n",
            "\n",
            "The following objects are masked from ‘package:lubridate’:\n",
            "\n",
            "    intersect, setdiff, union\n",
            "\n",
            "\n",
            "The following objects are masked from ‘package:dplyr’:\n",
            "\n",
            "    combine, intersect, setdiff, union\n",
            "\n",
            "\n",
            "The following objects are masked from ‘package:stats’:\n",
            "\n",
            "    IQR, mad, sd, var, xtabs\n",
            "\n",
            "\n",
            "The following objects are masked from ‘package:base’:\n",
            "\n",
            "    anyDuplicated, aperm, append, as.data.frame, basename, cbind,\n",
            "    colnames, dirname, do.call, duplicated, eval, evalq, Filter, Find,\n",
            "    get, grep, grepl, intersect, is.unsorted, lapply, Map, mapply,\n",
            "    match, mget, order, paste, pmax, pmax.int, pmin, pmin.int,\n",
            "    Position, rank, rbind, Reduce, rownames, sapply, setdiff, sort,\n",
            "    table, tapply, union, unique, unsplit, which.max, which.min\n",
            "\n",
            "\n",
            "\n",
            "Attaching package: ‘graph’\n",
            "\n",
            "\n",
            "The following objects are masked from ‘package:bnlearn’:\n",
            "\n",
            "    degree, nodes, nodes<-\n",
            "\n",
            "\n",
            "Loading required package: grid\n",
            "\n",
            "\n",
            "Attaching package: ‘Rgraphviz’\n",
            "\n",
            "\n",
            "The following object is masked from ‘package:car’:\n",
            "\n",
            "    sp\n",
            "\n",
            "\n"
          ]
        }
      ],
      "source": [
        "# Library called\n",
        "\n",
        "library(dplyr)\n",
        "library(ggplot2)\n",
        "library(lubridate)\n",
        "library(car)\n",
        "library(bnlearn)\n",
        "library(caret)\n",
        "library(nnet)\n",
        "library(randomForest)\n",
        "library(Metrics)\n",
        "library(Rgraphviz)"
      ]
    },
    {
      "cell_type": "code",
      "execution_count": 5,
      "metadata": {
        "id": "2ppMMFdlUEan"
      },
      "outputs": [],
      "source": [
        "#Load dataset\n",
        "\n",
        "df <- read.csv(\"AnimalShelter.csv\")\n",
        "#head(df)"
      ]
    },
    {
      "cell_type": "code",
      "execution_count": 6,
      "metadata": {
        "colab": {
          "base_uri": "https://localhost:8080/",
          "height": 104
        },
        "id": "O4UO8NkYr6oO",
        "outputId": "8e770b21-92df-4375-a7e6-ad168da04c47"
      },
      "outputs": [
        {
          "output_type": "display_data",
          "data": {
            "text/html": [
              "<style>\n",
              ".dl-inline {width: auto; margin:0; padding: 0}\n",
              ".dl-inline>dt, .dl-inline>dd {float: none; width: auto; display: inline-block}\n",
              ".dl-inline>dt::after {content: \":\\0020\"; padding-right: .5ex}\n",
              ".dl-inline>dt:not(:first-of-type) {padding-left: .5ex}\n",
              "</style><dl class=dl-inline><dt>Animal_Id</dt><dd>'character'</dd><dt>Animal_Type</dt><dd>'character'</dd><dt>Animal_Breed</dt><dd>'character'</dd><dt>Kennel_Number</dt><dd>'character'</dd><dt>Kennel_Status</dt><dd>'character'</dd><dt>Tag_Type</dt><dd>'logical'</dd><dt>Activity_Number</dt><dd>'character'</dd><dt>Activity_Sequence</dt><dd>'integer'</dd><dt>Source_Id</dt><dd>'character'</dd><dt>Census_Tract</dt><dd>'integer'</dd><dt>Council_District</dt><dd>'integer'</dd><dt>Intake_Type</dt><dd>'character'</dd><dt>Intake_Subtype</dt><dd>'character'</dd><dt>Intake_Total</dt><dd>'integer'</dd><dt>Reason</dt><dd>'character'</dd><dt>Staff_Id</dt><dd>'character'</dd><dt>Intake_Date</dt><dd>'character'</dd><dt>Intake_Time</dt><dd>'character'</dd><dt>Due_Out</dt><dd>'character'</dd><dt>Intake_Condition</dt><dd>'character'</dd><dt>Hold_Request</dt><dd>'character'</dd><dt>Outcome_Type</dt><dd>'character'</dd><dt>Outcome_Subtype</dt><dd>'character'</dd><dt>Outcome_Date</dt><dd>'character'</dd><dt>Outcome_Time</dt><dd>'character'</dd><dt>Receipt_Number</dt><dd>'character'</dd><dt>Impound_Number</dt><dd>'character'</dd><dt>Service_Request_Number</dt><dd>'character'</dd><dt>Outcome_Condition</dt><dd>'character'</dd><dt>Chip_Status</dt><dd>'character'</dd><dt>Animal_Origin</dt><dd>'character'</dd><dt>Additional_Information</dt><dd>'character'</dd><dt>Month</dt><dd>'character'</dd><dt>Year</dt><dd>'character'</dd></dl>\n"
            ],
            "text/markdown": "Animal_Id\n:   'character'Animal_Type\n:   'character'Animal_Breed\n:   'character'Kennel_Number\n:   'character'Kennel_Status\n:   'character'Tag_Type\n:   'logical'Activity_Number\n:   'character'Activity_Sequence\n:   'integer'Source_Id\n:   'character'Census_Tract\n:   'integer'Council_District\n:   'integer'Intake_Type\n:   'character'Intake_Subtype\n:   'character'Intake_Total\n:   'integer'Reason\n:   'character'Staff_Id\n:   'character'Intake_Date\n:   'character'Intake_Time\n:   'character'Due_Out\n:   'character'Intake_Condition\n:   'character'Hold_Request\n:   'character'Outcome_Type\n:   'character'Outcome_Subtype\n:   'character'Outcome_Date\n:   'character'Outcome_Time\n:   'character'Receipt_Number\n:   'character'Impound_Number\n:   'character'Service_Request_Number\n:   'character'Outcome_Condition\n:   'character'Chip_Status\n:   'character'Animal_Origin\n:   'character'Additional_Information\n:   'character'Month\n:   'character'Year\n:   'character'\n\n",
            "text/latex": "\\begin{description*}\n\\item[Animal\\textbackslash{}\\_Id] 'character'\n\\item[Animal\\textbackslash{}\\_Type] 'character'\n\\item[Animal\\textbackslash{}\\_Breed] 'character'\n\\item[Kennel\\textbackslash{}\\_Number] 'character'\n\\item[Kennel\\textbackslash{}\\_Status] 'character'\n\\item[Tag\\textbackslash{}\\_Type] 'logical'\n\\item[Activity\\textbackslash{}\\_Number] 'character'\n\\item[Activity\\textbackslash{}\\_Sequence] 'integer'\n\\item[Source\\textbackslash{}\\_Id] 'character'\n\\item[Census\\textbackslash{}\\_Tract] 'integer'\n\\item[Council\\textbackslash{}\\_District] 'integer'\n\\item[Intake\\textbackslash{}\\_Type] 'character'\n\\item[Intake\\textbackslash{}\\_Subtype] 'character'\n\\item[Intake\\textbackslash{}\\_Total] 'integer'\n\\item[Reason] 'character'\n\\item[Staff\\textbackslash{}\\_Id] 'character'\n\\item[Intake\\textbackslash{}\\_Date] 'character'\n\\item[Intake\\textbackslash{}\\_Time] 'character'\n\\item[Due\\textbackslash{}\\_Out] 'character'\n\\item[Intake\\textbackslash{}\\_Condition] 'character'\n\\item[Hold\\textbackslash{}\\_Request] 'character'\n\\item[Outcome\\textbackslash{}\\_Type] 'character'\n\\item[Outcome\\textbackslash{}\\_Subtype] 'character'\n\\item[Outcome\\textbackslash{}\\_Date] 'character'\n\\item[Outcome\\textbackslash{}\\_Time] 'character'\n\\item[Receipt\\textbackslash{}\\_Number] 'character'\n\\item[Impound\\textbackslash{}\\_Number] 'character'\n\\item[Service\\textbackslash{}\\_Request\\textbackslash{}\\_Number] 'character'\n\\item[Outcome\\textbackslash{}\\_Condition] 'character'\n\\item[Chip\\textbackslash{}\\_Status] 'character'\n\\item[Animal\\textbackslash{}\\_Origin] 'character'\n\\item[Additional\\textbackslash{}\\_Information] 'character'\n\\item[Month] 'character'\n\\item[Year] 'character'\n\\end{description*}\n",
            "text/plain": [
              "             Animal_Id            Animal_Type           Animal_Breed \n",
              "           \"character\"            \"character\"            \"character\" \n",
              "         Kennel_Number          Kennel_Status               Tag_Type \n",
              "           \"character\"            \"character\"              \"logical\" \n",
              "       Activity_Number      Activity_Sequence              Source_Id \n",
              "           \"character\"              \"integer\"            \"character\" \n",
              "          Census_Tract       Council_District            Intake_Type \n",
              "             \"integer\"              \"integer\"            \"character\" \n",
              "        Intake_Subtype           Intake_Total                 Reason \n",
              "           \"character\"              \"integer\"            \"character\" \n",
              "              Staff_Id            Intake_Date            Intake_Time \n",
              "           \"character\"            \"character\"            \"character\" \n",
              "               Due_Out       Intake_Condition           Hold_Request \n",
              "           \"character\"            \"character\"            \"character\" \n",
              "          Outcome_Type        Outcome_Subtype           Outcome_Date \n",
              "           \"character\"            \"character\"            \"character\" \n",
              "          Outcome_Time         Receipt_Number         Impound_Number \n",
              "           \"character\"            \"character\"            \"character\" \n",
              "Service_Request_Number      Outcome_Condition            Chip_Status \n",
              "           \"character\"            \"character\"            \"character\" \n",
              "         Animal_Origin Additional_Information                  Month \n",
              "           \"character\"            \"character\"            \"character\" \n",
              "                  Year \n",
              "           \"character\" "
            ]
          },
          "metadata": {}
        }
      ],
      "source": [
        "# Look at the classes\n",
        "sapply(df, class)"
      ]
    },
    {
      "cell_type": "code",
      "execution_count": 7,
      "metadata": {
        "colab": {
          "base_uri": "https://localhost:8080/",
          "height": 86
        },
        "id": "r8n2FKTWS_Fg",
        "outputId": "8b246e5e-f55e-4f5e-f338-661939a8bcbd"
      },
      "outputs": [
        {
          "output_type": "display_data",
          "data": {
            "text/html": [
              "<style>\n",
              ".dl-inline {width: auto; margin:0; padding: 0}\n",
              ".dl-inline>dt, .dl-inline>dd {float: none; width: auto; display: inline-block}\n",
              ".dl-inline>dt::after {content: \":\\0020\"; padding-right: .5ex}\n",
              ".dl-inline>dt:not(:first-of-type) {padding-left: .5ex}\n",
              "</style><dl class=dl-inline><dt>Animal_Id</dt><dd>0</dd><dt>Animal_Type</dt><dd>0</dd><dt>Animal_Breed</dt><dd>0</dd><dt>Kennel_Number</dt><dd>0</dd><dt>Kennel_Status</dt><dd>0</dd><dt>Tag_Type</dt><dd>22350</dd><dt>Activity_Number</dt><dd>0</dd><dt>Activity_Sequence</dt><dd>0</dd><dt>Source_Id</dt><dd>0</dd><dt>Census_Tract</dt><dd>8800</dd><dt>Council_District</dt><dd>8800</dd><dt>Intake_Type</dt><dd>0</dd><dt>Intake_Subtype</dt><dd>0</dd><dt>Intake_Total</dt><dd>0</dd><dt>Reason</dt><dd>0</dd><dt>Staff_Id</dt><dd>0</dd><dt>Intake_Date</dt><dd>0</dd><dt>Intake_Time</dt><dd>0</dd><dt>Due_Out</dt><dd>0</dd><dt>Intake_Condition</dt><dd>0</dd><dt>Hold_Request</dt><dd>0</dd><dt>Outcome_Type</dt><dd>0</dd><dt>Outcome_Subtype</dt><dd>0</dd><dt>Outcome_Date</dt><dd>0</dd><dt>Outcome_Time</dt><dd>0</dd><dt>Receipt_Number</dt><dd>0</dd><dt>Impound_Number</dt><dd>0</dd><dt>Service_Request_Number</dt><dd>0</dd><dt>Outcome_Condition</dt><dd>0</dd><dt>Chip_Status</dt><dd>0</dd><dt>Animal_Origin</dt><dd>0</dd><dt>Additional_Information</dt><dd>0</dd><dt>Month</dt><dd>0</dd><dt>Year</dt><dd>0</dd></dl>\n"
            ],
            "text/markdown": "Animal_Id\n:   0Animal_Type\n:   0Animal_Breed\n:   0Kennel_Number\n:   0Kennel_Status\n:   0Tag_Type\n:   22350Activity_Number\n:   0Activity_Sequence\n:   0Source_Id\n:   0Census_Tract\n:   8800Council_District\n:   8800Intake_Type\n:   0Intake_Subtype\n:   0Intake_Total\n:   0Reason\n:   0Staff_Id\n:   0Intake_Date\n:   0Intake_Time\n:   0Due_Out\n:   0Intake_Condition\n:   0Hold_Request\n:   0Outcome_Type\n:   0Outcome_Subtype\n:   0Outcome_Date\n:   0Outcome_Time\n:   0Receipt_Number\n:   0Impound_Number\n:   0Service_Request_Number\n:   0Outcome_Condition\n:   0Chip_Status\n:   0Animal_Origin\n:   0Additional_Information\n:   0Month\n:   0Year\n:   0\n\n",
            "text/latex": "\\begin{description*}\n\\item[Animal\\textbackslash{}\\_Id] 0\n\\item[Animal\\textbackslash{}\\_Type] 0\n\\item[Animal\\textbackslash{}\\_Breed] 0\n\\item[Kennel\\textbackslash{}\\_Number] 0\n\\item[Kennel\\textbackslash{}\\_Status] 0\n\\item[Tag\\textbackslash{}\\_Type] 22350\n\\item[Activity\\textbackslash{}\\_Number] 0\n\\item[Activity\\textbackslash{}\\_Sequence] 0\n\\item[Source\\textbackslash{}\\_Id] 0\n\\item[Census\\textbackslash{}\\_Tract] 8800\n\\item[Council\\textbackslash{}\\_District] 8800\n\\item[Intake\\textbackslash{}\\_Type] 0\n\\item[Intake\\textbackslash{}\\_Subtype] 0\n\\item[Intake\\textbackslash{}\\_Total] 0\n\\item[Reason] 0\n\\item[Staff\\textbackslash{}\\_Id] 0\n\\item[Intake\\textbackslash{}\\_Date] 0\n\\item[Intake\\textbackslash{}\\_Time] 0\n\\item[Due\\textbackslash{}\\_Out] 0\n\\item[Intake\\textbackslash{}\\_Condition] 0\n\\item[Hold\\textbackslash{}\\_Request] 0\n\\item[Outcome\\textbackslash{}\\_Type] 0\n\\item[Outcome\\textbackslash{}\\_Subtype] 0\n\\item[Outcome\\textbackslash{}\\_Date] 0\n\\item[Outcome\\textbackslash{}\\_Time] 0\n\\item[Receipt\\textbackslash{}\\_Number] 0\n\\item[Impound\\textbackslash{}\\_Number] 0\n\\item[Service\\textbackslash{}\\_Request\\textbackslash{}\\_Number] 0\n\\item[Outcome\\textbackslash{}\\_Condition] 0\n\\item[Chip\\textbackslash{}\\_Status] 0\n\\item[Animal\\textbackslash{}\\_Origin] 0\n\\item[Additional\\textbackslash{}\\_Information] 0\n\\item[Month] 0\n\\item[Year] 0\n\\end{description*}\n",
            "text/plain": [
              "             Animal_Id            Animal_Type           Animal_Breed \n",
              "                     0                      0                      0 \n",
              "         Kennel_Number          Kennel_Status               Tag_Type \n",
              "                     0                      0                  22350 \n",
              "       Activity_Number      Activity_Sequence              Source_Id \n",
              "                     0                      0                      0 \n",
              "          Census_Tract       Council_District            Intake_Type \n",
              "                  8800                   8800                      0 \n",
              "        Intake_Subtype           Intake_Total                 Reason \n",
              "                     0                      0                      0 \n",
              "              Staff_Id            Intake_Date            Intake_Time \n",
              "                     0                      0                      0 \n",
              "               Due_Out       Intake_Condition           Hold_Request \n",
              "                     0                      0                      0 \n",
              "          Outcome_Type        Outcome_Subtype           Outcome_Date \n",
              "                     0                      0                      0 \n",
              "          Outcome_Time         Receipt_Number         Impound_Number \n",
              "                     0                      0                      0 \n",
              "Service_Request_Number      Outcome_Condition            Chip_Status \n",
              "                     0                      0                      0 \n",
              "         Animal_Origin Additional_Information                  Month \n",
              "                     0                      0                      0 \n",
              "                  Year \n",
              "                     0 "
            ]
          },
          "metadata": {}
        }
      ],
      "source": [
        "# Check NAs\n",
        "sapply(df, function(x) sum(is.na(x)))"
      ]
    },
    {
      "cell_type": "code",
      "execution_count": 8,
      "metadata": {
        "id": "J3msFU8XTeXh"
      },
      "outputs": [],
      "source": [
        "# drop columns because of the NA values\n",
        "df <- subset(df, select = -c(Tag_Type,Census_Tract,Council_District))\n"
      ]
    },
    {
      "cell_type": "markdown",
      "metadata": {
        "id": "1uIAndatykIz"
      },
      "source": [
        "I am going to analysis this dataset to know about what is the great factor of they could find new home or return to their owners. For that, I really care about the information of the animal's health, status, and such directly related to the animal.\n",
        "\n",
        "This means, I do not want data about vaulenteer, data created time, or indexes. For example, 'Receipt_Number' or 'kennel_Number' are treated as index because they are unique value for almost every rows."
      ]
    },
    {
      "cell_type": "code",
      "execution_count": 9,
      "metadata": {
        "id": "B-Toc9zmUw7o"
      },
      "outputs": [],
      "source": [
        "#drop Not necessary informations (such as additional information, receipt number, index, etc.)\n",
        "df <- subset(df, select = -c(Service_Request_Number,Intake_Time,Outcome_Time,Activity_Number,Kennel_Number,Animal_Id,Receipt_Number,Impound_Number,Staff_Id,Additional_Information,Month,Year,Source_Id,Hold_Request,Activity_Sequence,Intake_Total))"
      ]
    },
    {
      "cell_type": "code",
      "execution_count": 10,
      "metadata": {
        "colab": {
          "base_uri": "https://localhost:8080/",
          "height": 52
        },
        "id": "ToweH9pOBkEn",
        "outputId": "b1500cbd-df26-47ae-ffb1-aaf7d0cf08bd"
      },
      "outputs": [
        {
          "output_type": "display_data",
          "data": {
            "text/html": [
              "<style>\n",
              ".dl-inline {width: auto; margin:0; padding: 0}\n",
              ".dl-inline>dt, .dl-inline>dd {float: none; width: auto; display: inline-block}\n",
              ".dl-inline>dt::after {content: \":\\0020\"; padding-right: .5ex}\n",
              ".dl-inline>dt:not(:first-of-type) {padding-left: .5ex}\n",
              "</style><dl class=dl-inline><dt>Animal_Type</dt><dd>0</dd><dt>Animal_Breed</dt><dd>9</dd><dt>Kennel_Status</dt><dd>0</dd><dt>Intake_Type</dt><dd>0</dd><dt>Intake_Subtype</dt><dd>0</dd><dt>Reason</dt><dd>2073</dd><dt>Intake_Date</dt><dd>0</dd><dt>Due_Out</dt><dd>0</dd><dt>Intake_Condition</dt><dd>0</dd><dt>Outcome_Type</dt><dd>0</dd><dt>Outcome_Subtype</dt><dd>3</dd><dt>Outcome_Date</dt><dd>1600</dd><dt>Outcome_Condition</dt><dd>3378</dd><dt>Chip_Status</dt><dd>2073</dd><dt>Animal_Origin</dt><dd>2073</dd></dl>\n"
            ],
            "text/markdown": "Animal_Type\n:   0Animal_Breed\n:   9Kennel_Status\n:   0Intake_Type\n:   0Intake_Subtype\n:   0Reason\n:   2073Intake_Date\n:   0Due_Out\n:   0Intake_Condition\n:   0Outcome_Type\n:   0Outcome_Subtype\n:   3Outcome_Date\n:   1600Outcome_Condition\n:   3378Chip_Status\n:   2073Animal_Origin\n:   2073\n\n",
            "text/latex": "\\begin{description*}\n\\item[Animal\\textbackslash{}\\_Type] 0\n\\item[Animal\\textbackslash{}\\_Breed] 9\n\\item[Kennel\\textbackslash{}\\_Status] 0\n\\item[Intake\\textbackslash{}\\_Type] 0\n\\item[Intake\\textbackslash{}\\_Subtype] 0\n\\item[Reason] 2073\n\\item[Intake\\textbackslash{}\\_Date] 0\n\\item[Due\\textbackslash{}\\_Out] 0\n\\item[Intake\\textbackslash{}\\_Condition] 0\n\\item[Outcome\\textbackslash{}\\_Type] 0\n\\item[Outcome\\textbackslash{}\\_Subtype] 3\n\\item[Outcome\\textbackslash{}\\_Date] 1600\n\\item[Outcome\\textbackslash{}\\_Condition] 3378\n\\item[Chip\\textbackslash{}\\_Status] 2073\n\\item[Animal\\textbackslash{}\\_Origin] 2073\n\\end{description*}\n",
            "text/plain": [
              "      Animal_Type      Animal_Breed     Kennel_Status       Intake_Type \n",
              "                0                 9                 0                 0 \n",
              "   Intake_Subtype            Reason       Intake_Date           Due_Out \n",
              "                0              2073                 0                 0 \n",
              " Intake_Condition      Outcome_Type   Outcome_Subtype      Outcome_Date \n",
              "                0                 0                 3              1600 \n",
              "Outcome_Condition       Chip_Status     Animal_Origin \n",
              "             3378              2073              2073 "
            ]
          },
          "metadata": {}
        }
      ],
      "source": [
        "# check is there any empty strings or NA string values.\n",
        "sapply(df, function(x) {\n",
        "  sum(is.na(x) | x == \"\" | x == \"NA\" | x == \"UNKNOWN\")\n",
        "})"
      ]
    },
    {
      "cell_type": "code",
      "execution_count": 11,
      "metadata": {
        "id": "ebfAmZXyB4zY"
      },
      "outputs": [],
      "source": [
        "# Remove rows with some empty things\n",
        "missingvaluerow <- apply(df, 1, function(x) any(x == \"\" | x == \"NA\" | x == \"UNKNOWN\"))\n",
        "df <- df[!missingvaluerow, ]"
      ]
    },
    {
      "cell_type": "code",
      "execution_count": 12,
      "metadata": {
        "id": "ufb8uVHAVaAZ"
      },
      "outputs": [],
      "source": [
        "# Convert datatype as fitted.\n",
        "df$Intake_Date <- mdy(df$Intake_Date)\n",
        "df$Due_Out <- mdy(df$Due_Out)\n",
        "df$Outcome_Date <- mdy(df$Outcome_Date)"
      ]
    },
    {
      "cell_type": "code",
      "execution_count": 13,
      "metadata": {
        "id": "FsTjjfMLaxfY"
      },
      "outputs": [],
      "source": [
        "#Change values as factor\n",
        "cols <- c(\"Animal_Type\",\"Kennel_Status\", \"Intake_Type\", \"Intake_Subtype\",\n",
        "                    \"Outcome_Type\", \"Outcome_Subtype\", \"Intake_Condition\",\n",
        "                    \"Outcome_Condition\", \"Chip_Status\", \"Animal_Origin\",\"Reason\")\n",
        "df[cols] <- lapply(df[cols], factor)"
      ]
    },
    {
      "cell_type": "code",
      "execution_count": 14,
      "metadata": {
        "colab": {
          "base_uri": "https://localhost:8080/",
          "height": 410
        },
        "id": "DOcyZ83-UYl-",
        "outputId": "3e87c9b1-3e3f-4e51-e109-1c44c39ad385"
      },
      "outputs": [
        {
          "output_type": "display_data",
          "data": {
            "text/html": [
              "<table class=\"dataframe\">\n",
              "<caption>A data.frame: 6 × 15</caption>\n",
              "<thead>\n",
              "\t<tr><th></th><th scope=col>Animal_Type</th><th scope=col>Animal_Breed</th><th scope=col>Kennel_Status</th><th scope=col>Intake_Type</th><th scope=col>Intake_Subtype</th><th scope=col>Reason</th><th scope=col>Intake_Date</th><th scope=col>Due_Out</th><th scope=col>Intake_Condition</th><th scope=col>Outcome_Type</th><th scope=col>Outcome_Subtype</th><th scope=col>Outcome_Date</th><th scope=col>Outcome_Condition</th><th scope=col>Chip_Status</th><th scope=col>Animal_Origin</th></tr>\n",
              "\t<tr><th></th><th scope=col>&lt;fct&gt;</th><th scope=col>&lt;chr&gt;</th><th scope=col>&lt;fct&gt;</th><th scope=col>&lt;fct&gt;</th><th scope=col>&lt;fct&gt;</th><th scope=col>&lt;fct&gt;</th><th scope=col>&lt;date&gt;</th><th scope=col>&lt;date&gt;</th><th scope=col>&lt;fct&gt;</th><th scope=col>&lt;fct&gt;</th><th scope=col>&lt;fct&gt;</th><th scope=col>&lt;date&gt;</th><th scope=col>&lt;fct&gt;</th><th scope=col>&lt;fct&gt;</th><th scope=col>&lt;fct&gt;</th></tr>\n",
              "</thead>\n",
              "<tbody>\n",
              "\t<tr><th scope=row>1</th><td>DOG</td><td>PIT BULL     </td><td>UNAVAILABLE</td><td>STRAY          </td><td>CONFINED </td><td>OTHRINTAKS</td><td>2023-12-21</td><td>2023-12-25</td><td>APP WNL</td><td>TRANSFER         </td><td>MEDICAL   </td><td>2024-01-09</td><td>APP SICK</td><td>SCAN NO CHIP</td><td>FIELD           </td></tr>\n",
              "\t<tr><th scope=row>2</th><td>DOG</td><td>PIT BULL     </td><td>AVAILABLE  </td><td>TREATMENT      </td><td>SPAY/NEUT</td><td>SURGERY   </td><td>2024-02-19</td><td>2024-02-19</td><td>APP WNL</td><td>TREATMENT        </td><td>COMPLETED </td><td>2024-02-19</td><td>APP WNL </td><td>SCAN CHIP   </td><td>OVER THE COUNTER</td></tr>\n",
              "\t<tr><th scope=row>3</th><td>DOG</td><td>GERM SHEPHERD</td><td>IMPOUNDED  </td><td>OWNER SURRENDER</td><td>URGENT   </td><td>OTHRINTAKS</td><td>2024-03-29</td><td>2024-04-02</td><td>APP INJ</td><td>EUTHANIZED       </td><td>HUMANE    </td><td>2024-03-29</td><td>APP INJ </td><td>SCAN CHIP   </td><td>FIELD           </td></tr>\n",
              "\t<tr><th scope=row>4</th><td>DOG</td><td>GERM SHEPHERD</td><td>AVAILABLE  </td><td>OWNER SURRENDER</td><td>APPOINT  </td><td>PERSNLISSU</td><td>2023-12-15</td><td>2023-12-15</td><td>APP WNL</td><td>TRANSFER         </td><td>GENERAL   </td><td>2023-12-16</td><td>APP WNL </td><td>SCAN CHIP   </td><td>OVER THE COUNTER</td></tr>\n",
              "\t<tr><th scope=row>5</th><td>DOG</td><td>SHEPHERD     </td><td>IMPOUNDED  </td><td>OWNER SURRENDER</td><td>URGENT   </td><td>MEDICAL   </td><td>2024-02-07</td><td>2024-02-07</td><td>APP INJ</td><td>EUTHANIZED       </td><td>MEDICAL   </td><td>2024-02-07</td><td>APP SICK</td><td>SCAN CHIP   </td><td>FIELD           </td></tr>\n",
              "\t<tr><th scope=row>6</th><td>DOG</td><td>AUST SHEPHERD</td><td>UNAVAILABLE</td><td>STRAY          </td><td>CONFINED </td><td>OTHRINTAKS</td><td>2024-04-15</td><td>2024-04-21</td><td>APP INJ</td><td>RETURNED TO OWNER</td><td>WESTMORELD</td><td>2024-04-16</td><td>APP WNL </td><td>SCAN CHIP   </td><td>FIELD           </td></tr>\n",
              "</tbody>\n",
              "</table>\n"
            ],
            "text/markdown": "\nA data.frame: 6 × 15\n\n| <!--/--> | Animal_Type &lt;fct&gt; | Animal_Breed &lt;chr&gt; | Kennel_Status &lt;fct&gt; | Intake_Type &lt;fct&gt; | Intake_Subtype &lt;fct&gt; | Reason &lt;fct&gt; | Intake_Date &lt;date&gt; | Due_Out &lt;date&gt; | Intake_Condition &lt;fct&gt; | Outcome_Type &lt;fct&gt; | Outcome_Subtype &lt;fct&gt; | Outcome_Date &lt;date&gt; | Outcome_Condition &lt;fct&gt; | Chip_Status &lt;fct&gt; | Animal_Origin &lt;fct&gt; |\n|---|---|---|---|---|---|---|---|---|---|---|---|---|---|---|---|\n| 1 | DOG | PIT BULL      | UNAVAILABLE | STRAY           | CONFINED  | OTHRINTAKS | 2023-12-21 | 2023-12-25 | APP WNL | TRANSFER          | MEDICAL    | 2024-01-09 | APP SICK | SCAN NO CHIP | FIELD            |\n| 2 | DOG | PIT BULL      | AVAILABLE   | TREATMENT       | SPAY/NEUT | SURGERY    | 2024-02-19 | 2024-02-19 | APP WNL | TREATMENT         | COMPLETED  | 2024-02-19 | APP WNL  | SCAN CHIP    | OVER THE COUNTER |\n| 3 | DOG | GERM SHEPHERD | IMPOUNDED   | OWNER SURRENDER | URGENT    | OTHRINTAKS | 2024-03-29 | 2024-04-02 | APP INJ | EUTHANIZED        | HUMANE     | 2024-03-29 | APP INJ  | SCAN CHIP    | FIELD            |\n| 4 | DOG | GERM SHEPHERD | AVAILABLE   | OWNER SURRENDER | APPOINT   | PERSNLISSU | 2023-12-15 | 2023-12-15 | APP WNL | TRANSFER          | GENERAL    | 2023-12-16 | APP WNL  | SCAN CHIP    | OVER THE COUNTER |\n| 5 | DOG | SHEPHERD      | IMPOUNDED   | OWNER SURRENDER | URGENT    | MEDICAL    | 2024-02-07 | 2024-02-07 | APP INJ | EUTHANIZED        | MEDICAL    | 2024-02-07 | APP SICK | SCAN CHIP    | FIELD            |\n| 6 | DOG | AUST SHEPHERD | UNAVAILABLE | STRAY           | CONFINED  | OTHRINTAKS | 2024-04-15 | 2024-04-21 | APP INJ | RETURNED TO OWNER | WESTMORELD | 2024-04-16 | APP WNL  | SCAN CHIP    | FIELD            |\n\n",
            "text/latex": "A data.frame: 6 × 15\n\\begin{tabular}{r|lllllllllllllll}\n  & Animal\\_Type & Animal\\_Breed & Kennel\\_Status & Intake\\_Type & Intake\\_Subtype & Reason & Intake\\_Date & Due\\_Out & Intake\\_Condition & Outcome\\_Type & Outcome\\_Subtype & Outcome\\_Date & Outcome\\_Condition & Chip\\_Status & Animal\\_Origin\\\\\n  & <fct> & <chr> & <fct> & <fct> & <fct> & <fct> & <date> & <date> & <fct> & <fct> & <fct> & <date> & <fct> & <fct> & <fct>\\\\\n\\hline\n\t1 & DOG & PIT BULL      & UNAVAILABLE & STRAY           & CONFINED  & OTHRINTAKS & 2023-12-21 & 2023-12-25 & APP WNL & TRANSFER          & MEDICAL    & 2024-01-09 & APP SICK & SCAN NO CHIP & FIELD           \\\\\n\t2 & DOG & PIT BULL      & AVAILABLE   & TREATMENT       & SPAY/NEUT & SURGERY    & 2024-02-19 & 2024-02-19 & APP WNL & TREATMENT         & COMPLETED  & 2024-02-19 & APP WNL  & SCAN CHIP    & OVER THE COUNTER\\\\\n\t3 & DOG & GERM SHEPHERD & IMPOUNDED   & OWNER SURRENDER & URGENT    & OTHRINTAKS & 2024-03-29 & 2024-04-02 & APP INJ & EUTHANIZED        & HUMANE     & 2024-03-29 & APP INJ  & SCAN CHIP    & FIELD           \\\\\n\t4 & DOG & GERM SHEPHERD & AVAILABLE   & OWNER SURRENDER & APPOINT   & PERSNLISSU & 2023-12-15 & 2023-12-15 & APP WNL & TRANSFER          & GENERAL    & 2023-12-16 & APP WNL  & SCAN CHIP    & OVER THE COUNTER\\\\\n\t5 & DOG & SHEPHERD      & IMPOUNDED   & OWNER SURRENDER & URGENT    & MEDICAL    & 2024-02-07 & 2024-02-07 & APP INJ & EUTHANIZED        & MEDICAL    & 2024-02-07 & APP SICK & SCAN CHIP    & FIELD           \\\\\n\t6 & DOG & AUST SHEPHERD & UNAVAILABLE & STRAY           & CONFINED  & OTHRINTAKS & 2024-04-15 & 2024-04-21 & APP INJ & RETURNED TO OWNER & WESTMORELD & 2024-04-16 & APP WNL  & SCAN CHIP    & FIELD           \\\\\n\\end{tabular}\n",
            "text/plain": [
              "  Animal_Type Animal_Breed  Kennel_Status Intake_Type     Intake_Subtype\n",
              "1 DOG         PIT BULL      UNAVAILABLE   STRAY           CONFINED      \n",
              "2 DOG         PIT BULL      AVAILABLE     TREATMENT       SPAY/NEUT     \n",
              "3 DOG         GERM SHEPHERD IMPOUNDED     OWNER SURRENDER URGENT        \n",
              "4 DOG         GERM SHEPHERD AVAILABLE     OWNER SURRENDER APPOINT       \n",
              "5 DOG         SHEPHERD      IMPOUNDED     OWNER SURRENDER URGENT        \n",
              "6 DOG         AUST SHEPHERD UNAVAILABLE   STRAY           CONFINED      \n",
              "  Reason     Intake_Date Due_Out    Intake_Condition Outcome_Type     \n",
              "1 OTHRINTAKS 2023-12-21  2023-12-25 APP WNL          TRANSFER         \n",
              "2 SURGERY    2024-02-19  2024-02-19 APP WNL          TREATMENT        \n",
              "3 OTHRINTAKS 2024-03-29  2024-04-02 APP INJ          EUTHANIZED       \n",
              "4 PERSNLISSU 2023-12-15  2023-12-15 APP WNL          TRANSFER         \n",
              "5 MEDICAL    2024-02-07  2024-02-07 APP INJ          EUTHANIZED       \n",
              "6 OTHRINTAKS 2024-04-15  2024-04-21 APP INJ          RETURNED TO OWNER\n",
              "  Outcome_Subtype Outcome_Date Outcome_Condition Chip_Status  Animal_Origin   \n",
              "1 MEDICAL         2024-01-09   APP SICK          SCAN NO CHIP FIELD           \n",
              "2 COMPLETED       2024-02-19   APP WNL           SCAN CHIP    OVER THE COUNTER\n",
              "3 HUMANE          2024-03-29   APP INJ           SCAN CHIP    FIELD           \n",
              "4 GENERAL         2023-12-16   APP WNL           SCAN CHIP    OVER THE COUNTER\n",
              "5 MEDICAL         2024-02-07   APP SICK          SCAN CHIP    FIELD           \n",
              "6 WESTMORELD      2024-04-16   APP WNL           SCAN CHIP    FIELD           "
            ]
          },
          "metadata": {}
        }
      ],
      "source": [
        "# After cleaning the data\n",
        "head(df)"
      ]
    },
    {
      "cell_type": "code",
      "execution_count": 15,
      "metadata": {
        "colab": {
          "base_uri": "https://localhost:8080/",
          "height": 711
        },
        "id": "Ivc5GEjEDYEx",
        "outputId": "b6f1e55f-b717-405b-8db4-04102b8044f4"
      },
      "outputs": [
        {
          "output_type": "display_data",
          "data": {
            "text/plain": [
              "    Animal_Type    Animal_Breed           Kennel_Status           Intake_Type  \n",
              " BIRD     : 1048   Length:18890       AVAILABLE  :6126   STRAY          :8722  \n",
              " CAT      : 3756   Class :character   UNAVAILABLE:5056   FOSTER         :3152  \n",
              " DOG      :13364   Mode  :character   IMPOUNDED  :2576   OWNER SURRENDER:2902  \n",
              " LIVESTOCK:   10                      PENDING    :1865   CONFISCATED    :1507  \n",
              " WILDLIFE :  712                      LAB        :1654   TREATMENT      : 788  \n",
              "                                      PRE-LAB    :1332   WILDLIFE       : 647  \n",
              "                                      (Other)    : 281   (Other)        :1172  \n",
              "  Intake_Subtype        Reason       Intake_Date            Due_Out          \n",
              " AT LARGE:6974   OTHRINTAKS:10829   Min.   :2023-10-01   Min.   :2023-10-01  \n",
              " APPOINT :4156   FOR ADOPT : 1672   1st Qu.:2023-11-24   1st Qu.:2023-11-27  \n",
              " CONFINED:1542   MEDICAL   : 1083   Median :2024-01-21   Median :2024-01-24  \n",
              " SAC     :1089   PERSNLISSU:  910   Mean   :2024-01-17   Mean   :2024-01-24  \n",
              " URGENT  : 972   OTHER     :  890   3rd Qu.:2024-03-10   3rd Qu.:2024-03-12  \n",
              " WALK IN : 593   SURGERY   :  786   Max.   :2024-04-27   Max.   :2040-04-21  \n",
              " (Other) :3564   (Other)   : 2720                                            \n",
              " Intake_Condition            Outcome_Type    Outcome_Subtype\n",
              " APP WNL :15656   ADOPTION         :5709   WESTMORELD:5274  \n",
              " APP SICK: 1118   FOSTER           :3248   GENERAL   :1820  \n",
              " APP INJ : 1094   EUTHANIZED       :3147   HUMANE    :1594  \n",
              " CRITICAL:  441   TRANSFER         :2557   TRANSPORT :1118  \n",
              " UNDERAGE:  400   RETURNED TO OWNER:2189   TO ADOPT  :1114  \n",
              " DECEASED:  163   TREATMENT        : 787   BY FOSTER : 973  \n",
              " (Other) :   18   (Other)          :1253   (Other)   :6997  \n",
              "  Outcome_Date        Outcome_Condition                    Chip_Status   \n",
              " Min.   :2023-10-01   APP WNL :15279    SCAN CHIP                : 6395  \n",
              " 1st Qu.:2023-12-01   APP SICK:  993    SCAN NO CHIP             :10345  \n",
              " Median :2024-01-28   UNDERAGE:  993    UNABLE TO SCAN           : 1511  \n",
              " Mean   :2024-01-23   APP INJ :  689    WILDLIFE - UNABLE TO SCAN:  639  \n",
              " 3rd Qu.:2024-03-16   CRITICAL:  641                                     \n",
              " Max.   :2024-09-03   DECEASED:  286                                     \n",
              "                      (Other) :    9                                     \n",
              "          Animal_Origin  \n",
              " AGGOPS          :  479  \n",
              " BITE            :   82  \n",
              " COM CAT         :  633  \n",
              " FIELD           : 7135  \n",
              " HART            :    3  \n",
              " OVER THE COUNTER:10543  \n",
              " PSPICKUP        :   15  "
            ]
          },
          "metadata": {}
        }
      ],
      "source": [
        "summary(df)"
      ]
    },
    {
      "cell_type": "code",
      "execution_count": 16,
      "metadata": {
        "id": "RygCkTZaWNdA"
      },
      "outputs": [],
      "source": [
        "#Save cleaned data for in case.\n",
        "write.csv(df, \"CleandAnimalShelter.csv\",row.names = FALSE)"
      ]
    },
    {
      "cell_type": "markdown",
      "metadata": {
        "id": "xKOwN3V3zHD_"
      },
      "source": [
        "After the cleaning the data, I removed 17 columns. But I still got 15 columns remaining."
      ]
    },
    {
      "cell_type": "markdown",
      "metadata": {
        "id": "xzaZtNeQihJC"
      },
      "source": [
        "## Analysing"
      ]
    },
    {
      "cell_type": "code",
      "execution_count": 40,
      "metadata": {
        "id": "CLSFtI6wT728"
      },
      "outputs": [],
      "source": [
        "df <- read.csv(\"CleandAnimalShelter.csv\")"
      ]
    },
    {
      "cell_type": "markdown",
      "metadata": {
        "id": "vaE_l-sS2Zv6"
      },
      "source": [
        "\n",
        "Let's say Chips can help top return to their owner.\n",
        "\n",
        "H0 : Animal with chip has higher possibility to return their owner.\\\n",
        "Ha : chip does not matter.\n",
        "\n"
      ]
    },
    {
      "cell_type": "code",
      "execution_count": 18,
      "metadata": {
        "colab": {
          "base_uri": "https://localhost:8080/",
          "height": 52
        },
        "id": "fhOeUx93s9ai",
        "outputId": "97200dad-3974-4067-fbf0-f08122058b53"
      },
      "outputs": [
        {
          "output_type": "display_data",
          "data": {
            "text/plain": [
              "   Length     Class      Mode \n",
              "    18890 character character "
            ]
          },
          "metadata": {}
        }
      ],
      "source": [
        "summary(df$Outcome_Type)"
      ]
    },
    {
      "cell_type": "code",
      "execution_count": 19,
      "metadata": {
        "colab": {
          "base_uri": "https://localhost:8080/",
          "height": 382
        },
        "id": "docYTkljfIFP",
        "outputId": "9ab74df5-2285-4588-d147-f0db64894403"
      },
      "outputs": [
        {
          "output_type": "stream",
          "name": "stderr",
          "text": [
            "Warning message:\n",
            "“glm.fit: algorithm did not converge”\n"
          ]
        },
        {
          "output_type": "display_data",
          "data": {
            "text/plain": [
              "\n",
              "Call:\n",
              "glm(formula = Returned_to_Owner ~ Chip_Status, family = binomial, \n",
              "    data = df)\n",
              "\n",
              "Coefficients:\n",
              "                            Estimate Std. Error z value Pr(>|z|)\n",
              "(Intercept)                2.657e+01  1.108e+04   0.002    0.998\n",
              "Chip_StatusSCAN NO CHIP   -7.604e-10  1.601e+04   0.000    1.000\n",
              "Chip_StatusUNABLE TO SCAN -7.604e-10  2.717e+04   0.000    1.000\n",
              "\n",
              "(Dispersion parameter for binomial family taken to be 1)\n",
              "\n",
              "    Null deviance: 0.00e+00  on 2188  degrees of freedom\n",
              "Residual deviance: 1.27e-08  on 2186  degrees of freedom\n",
              "  (16701 observations deleted due to missingness)\n",
              "AIC: 6\n",
              "\n",
              "Number of Fisher Scoring iterations: 25\n"
            ]
          },
          "metadata": {}
        }
      ],
      "source": [
        "#Pre-Process data and build Generalized Linear Modeling\n",
        "df$Outcome_Type <- factor(df$Outcome_Type, levels = c(\"RETURNED TO OWNER\", \"OTHER\"))\n",
        "df$Returned_to_Owner <- ifelse(df$Outcome_Type == \"RETURNED TO OWNER\", 1, 0)\n",
        "model <- glm(Returned_to_Owner ~ Chip_Status, family = binomial, data = df)\n",
        "summary(model)"
      ]
    },
    {
      "cell_type": "markdown",
      "metadata": {
        "id": "agspNrobh2c9"
      },
      "source": [
        "P-values are all way more higher than Alpha 0.05\\\n",
        "It is showing that animal with chips are not that helpful to owners to find them.\n",
        "\n",
        "---\n",
        "\n",
        "Because it is not that hopeful, I wanted to do see other factors that might be hopeful.\n",
        "\n",
        "Let's say, this time how their condition matter to adopted.\n",
        "\n",
        "H0: If they are healthy, they are highly adopted.\\\n",
        "Ha: helath does not matter"
      ]
    },
    {
      "cell_type": "code",
      "execution_count": 20,
      "metadata": {
        "id": "UzRP52x4MxPg"
      },
      "outputs": [],
      "source": [
        "df <- read.csv(\"CleandAnimalShelter.csv\")"
      ]
    },
    {
      "cell_type": "code",
      "execution_count": 21,
      "metadata": {
        "id": "Z17GrMeLJANx"
      },
      "outputs": [],
      "source": [
        "#\n",
        "#df$Binary_Outcome <- ifelse(df$Outcome_Type == \"ADOPTION\", 1, 0)\n",
        "#df$Binary_Outcome"
      ]
    },
    {
      "cell_type": "code",
      "execution_count": 22,
      "metadata": {
        "colab": {
          "base_uri": "https://localhost:8080/",
          "height": 451
        },
        "id": "uHo0QAkjjIvc",
        "outputId": "03fc70b9-64de-4882-e8a6-04c5066f5489"
      },
      "outputs": [
        {
          "output_type": "display_data",
          "data": {
            "text/plain": [
              "\n",
              "Call:\n",
              "glm(formula = Binary_Outcome ~ Outcome_Condition, family = binomial, \n",
              "    data = df)\n",
              "\n",
              "Coefficients:\n",
              "                            Estimate Std. Error z value Pr(>|z|)    \n",
              "(Intercept)                 -3.61840    0.23884 -15.150  < 2e-16 ***\n",
              "Outcome_ConditionAPP SICK   -0.03796    0.31318  -0.121  0.90353    \n",
              "Outcome_ConditionAPP WNL     3.08836    0.23943  12.899  < 2e-16 ***\n",
              "Outcome_ConditionCRITICAL   -1.74133    0.62606  -2.781  0.00541 ** \n",
              "Outcome_ConditionDECEASED   -2.03409    1.02983  -1.975  0.04825 *  \n",
              "Outcome_ConditionFATAL      -8.94767  114.81448  -0.078  0.93788    \n",
              "Outcome_ConditionGERIATRIC  -8.94767  324.74378  -0.028  0.97802    \n",
              "Outcome_ConditionUNDERAGE   -3.28133    1.02862  -3.190  0.00142 ** \n",
              "---\n",
              "Signif. codes:  0 ‘***’ 0.001 ‘**’ 0.01 ‘*’ 0.05 ‘.’ 0.1 ‘ ’ 1\n",
              "\n",
              "(Dispersion parameter for binomial family taken to be 1)\n",
              "\n",
              "    Null deviance: 23149  on 18889  degrees of freedom\n",
              "Residual deviance: 20612  on 18882  degrees of freedom\n",
              "AIC: 20628\n",
              "\n",
              "Number of Fisher Scoring iterations: 11\n"
            ]
          },
          "metadata": {}
        }
      ],
      "source": [
        "# Pre-Process data and build model\n",
        "df$Binary_Outcome <- ifelse(df$Outcome_Type == \"ADOPTION\", 1, 0)\n",
        "model1 <- glm(Binary_Outcome ~ Outcome_Condition, family = binomial, data = df)\n",
        "summary(model1)"
      ]
    },
    {
      "cell_type": "code",
      "execution_count": 23,
      "metadata": {
        "colab": {
          "base_uri": "https://localhost:8080/",
          "height": 139
        },
        "id": "5o1tlJERoxy0",
        "outputId": "b2611a5c-b41c-4f19-c3a4-ca6e46a1ce6b"
      },
      "outputs": [
        {
          "output_type": "stream",
          "name": "stderr",
          "text": [
            "Warning message in chisq.test(table):\n",
            "“Chi-squared approximation may be incorrect”\n"
          ]
        },
        {
          "output_type": "display_data",
          "data": {
            "text/plain": [
              "\n",
              "\tPearson's Chi-squared test\n",
              "\n",
              "data:  table\n",
              "X-squared = 23932, df = 84, p-value < 2.2e-16\n"
            ]
          },
          "metadata": {}
        }
      ],
      "source": [
        "# Run chi-squared test\n",
        "table <- table(df$Outcome_Condition, df$Outcome_Type)\n",
        "chi <- chisq.test(table)\n",
        "chi"
      ]
    },
    {
      "cell_type": "markdown",
      "metadata": {
        "id": "lpUj0g-zpc02"
      },
      "source": [
        "It seems like if they are healthy, the chance of adpotion is high. If I see the result, p-value of APP WNL(applicant with normal limits) is the only one extemely small. There seems to be higher adoption chance on healthy animals.\n",
        "\n",
        "---\n",
        "\n",
        "And now let's see how shelter life period is effected to their adoption chance.\n",
        "Let's say if they stay longer in shelter, it is hard to get adopted.\n",
        "\n",
        "H0 : Longer stays in the shelter negatively impact the likelihood of positive outcomes.\\\n",
        "Ha : it does not matter.\n"
      ]
    },
    {
      "cell_type": "code",
      "execution_count": 24,
      "metadata": {
        "colab": {
          "base_uri": "https://localhost:8080/",
          "height": 52
        },
        "id": "pw8rSw2qpXhW",
        "outputId": "518b4e3a-77f7-4086-fd5d-fb736a02addd"
      },
      "outputs": [
        {
          "output_type": "display_data",
          "data": {
            "text/plain": [
              "   Min. 1st Qu.  Median    Mean 3rd Qu.    Max. \n",
              "  0.000   0.000   3.000   6.555   9.000 178.000 "
            ]
          },
          "metadata": {}
        }
      ],
      "source": [
        "# Calculate time\n",
        "df$Duration <- as.numeric(difftime(df$Outcome_Date, df$Intake_Date, units = \"days\"))\n",
        "summary(df$Duration)"
      ]
    },
    {
      "cell_type": "code",
      "execution_count": 25,
      "metadata": {
        "colab": {
          "base_uri": "https://localhost:8080/",
          "height": 0
        },
        "id": "bVRloCZ-t_xu",
        "outputId": "067e94cd-d052-4ce1-dd55-92523077a987"
      },
      "outputs": [
        {
          "output_type": "stream",
          "name": "stdout",
          "text": [
            "\n",
            "\tWelch Two Sample t-test\n",
            "\n",
            "data:  Duration by Binary_Outcome\n",
            "t = 6.2197, df = 12644, p-value = 5.138e-10\n",
            "alternative hypothesis: true difference in means between group 0 and group 1 is not equal to 0\n",
            "95 percent confidence interval:\n",
            " 0.5754401 1.1050510\n",
            "sample estimates:\n",
            "mean in group 0 mean in group 1 \n",
            "       6.808892        5.968646 \n",
            "\n"
          ]
        }
      ],
      "source": [
        "# Run t-test\n",
        "t_test <- t.test(Duration ~ Binary_Outcome, data = df)\n",
        "print(t_test)"
      ]
    },
    {
      "cell_type": "markdown",
      "metadata": {
        "id": "9nV_FoxBwHop"
      },
      "source": [
        "There is significantly and slightly difference between two groups. P-value is also less than 0.05. This means the animals who stay shorter has more chance to get adopted. The statistical significance tells us that the observed difference in the average duration between these two groups is unlikely to have occurred by random chance.\n",
        "\n",
        "---\n",
        "\n",
        "And then let's try Bayesian networks.\n"
      ]
    },
    {
      "cell_type": "code",
      "execution_count": 26,
      "metadata": {
        "id": "QZIgK7KyNxAw"
      },
      "outputs": [],
      "source": [
        "df <- read.csv(\"CleandAnimalShelter.csv\")"
      ]
    },
    {
      "cell_type": "code",
      "execution_count": 27,
      "metadata": {
        "id": "U8C9ASAUUx-i"
      },
      "outputs": [],
      "source": [
        "# Pre-Process data\n",
        "df <- subset(df, select = -c(Intake_Date,Due_Out,Outcome_Date))\n",
        "cols <- c(\"Animal_Type\",\"Animal_Breed\",\"Kennel_Status\", \"Intake_Type\", \"Intake_Subtype\",\n",
        "                    \"Outcome_Type\", \"Outcome_Subtype\", \"Intake_Condition\",\n",
        "                    \"Outcome_Condition\", \"Chip_Status\", \"Animal_Origin\",\"Reason\")\n",
        "df[cols] <- lapply(df[cols], factor)"
      ]
    },
    {
      "cell_type": "code",
      "execution_count": 28,
      "metadata": {
        "colab": {
          "base_uri": "https://localhost:8080/",
          "height": 390
        },
        "id": "6WmgO2wvWOdJ",
        "outputId": "50373b73-6ef8-4e7a-a9e3-67f74a58e430"
      },
      "outputs": [
        {
          "output_type": "display_data",
          "data": {
            "text/html": [
              "<table class=\"dataframe\">\n",
              "<caption>A data.frame: 6 × 12</caption>\n",
              "<thead>\n",
              "\t<tr><th></th><th scope=col>Animal_Type</th><th scope=col>Animal_Breed</th><th scope=col>Kennel_Status</th><th scope=col>Intake_Type</th><th scope=col>Intake_Subtype</th><th scope=col>Reason</th><th scope=col>Intake_Condition</th><th scope=col>Outcome_Type</th><th scope=col>Outcome_Subtype</th><th scope=col>Outcome_Condition</th><th scope=col>Chip_Status</th><th scope=col>Animal_Origin</th></tr>\n",
              "\t<tr><th></th><th scope=col>&lt;fct&gt;</th><th scope=col>&lt;fct&gt;</th><th scope=col>&lt;fct&gt;</th><th scope=col>&lt;fct&gt;</th><th scope=col>&lt;fct&gt;</th><th scope=col>&lt;fct&gt;</th><th scope=col>&lt;fct&gt;</th><th scope=col>&lt;fct&gt;</th><th scope=col>&lt;fct&gt;</th><th scope=col>&lt;fct&gt;</th><th scope=col>&lt;fct&gt;</th><th scope=col>&lt;fct&gt;</th></tr>\n",
              "</thead>\n",
              "<tbody>\n",
              "\t<tr><th scope=row>1</th><td>DOG</td><td>PIT BULL     </td><td>UNAVAILABLE</td><td>STRAY          </td><td>CONFINED </td><td>OTHRINTAKS</td><td>APP WNL</td><td>TRANSFER         </td><td>MEDICAL   </td><td>APP SICK</td><td>SCAN NO CHIP</td><td>FIELD           </td></tr>\n",
              "\t<tr><th scope=row>2</th><td>DOG</td><td>PIT BULL     </td><td>AVAILABLE  </td><td>TREATMENT      </td><td>SPAY/NEUT</td><td>SURGERY   </td><td>APP WNL</td><td>TREATMENT        </td><td>COMPLETED </td><td>APP WNL </td><td>SCAN CHIP   </td><td>OVER THE COUNTER</td></tr>\n",
              "\t<tr><th scope=row>3</th><td>DOG</td><td>GERM SHEPHERD</td><td>IMPOUNDED  </td><td>OWNER SURRENDER</td><td>URGENT   </td><td>OTHRINTAKS</td><td>APP INJ</td><td>EUTHANIZED       </td><td>HUMANE    </td><td>APP INJ </td><td>SCAN CHIP   </td><td>FIELD           </td></tr>\n",
              "\t<tr><th scope=row>4</th><td>DOG</td><td>GERM SHEPHERD</td><td>AVAILABLE  </td><td>OWNER SURRENDER</td><td>APPOINT  </td><td>PERSNLISSU</td><td>APP WNL</td><td>TRANSFER         </td><td>GENERAL   </td><td>APP WNL </td><td>SCAN CHIP   </td><td>OVER THE COUNTER</td></tr>\n",
              "\t<tr><th scope=row>5</th><td>DOG</td><td>SHEPHERD     </td><td>IMPOUNDED  </td><td>OWNER SURRENDER</td><td>URGENT   </td><td>MEDICAL   </td><td>APP INJ</td><td>EUTHANIZED       </td><td>MEDICAL   </td><td>APP SICK</td><td>SCAN CHIP   </td><td>FIELD           </td></tr>\n",
              "\t<tr><th scope=row>6</th><td>DOG</td><td>AUST SHEPHERD</td><td>UNAVAILABLE</td><td>STRAY          </td><td>CONFINED </td><td>OTHRINTAKS</td><td>APP INJ</td><td>RETURNED TO OWNER</td><td>WESTMORELD</td><td>APP WNL </td><td>SCAN CHIP   </td><td>FIELD           </td></tr>\n",
              "</tbody>\n",
              "</table>\n"
            ],
            "text/markdown": "\nA data.frame: 6 × 12\n\n| <!--/--> | Animal_Type &lt;fct&gt; | Animal_Breed &lt;fct&gt; | Kennel_Status &lt;fct&gt; | Intake_Type &lt;fct&gt; | Intake_Subtype &lt;fct&gt; | Reason &lt;fct&gt; | Intake_Condition &lt;fct&gt; | Outcome_Type &lt;fct&gt; | Outcome_Subtype &lt;fct&gt; | Outcome_Condition &lt;fct&gt; | Chip_Status &lt;fct&gt; | Animal_Origin &lt;fct&gt; |\n|---|---|---|---|---|---|---|---|---|---|---|---|---|\n| 1 | DOG | PIT BULL      | UNAVAILABLE | STRAY           | CONFINED  | OTHRINTAKS | APP WNL | TRANSFER          | MEDICAL    | APP SICK | SCAN NO CHIP | FIELD            |\n| 2 | DOG | PIT BULL      | AVAILABLE   | TREATMENT       | SPAY/NEUT | SURGERY    | APP WNL | TREATMENT         | COMPLETED  | APP WNL  | SCAN CHIP    | OVER THE COUNTER |\n| 3 | DOG | GERM SHEPHERD | IMPOUNDED   | OWNER SURRENDER | URGENT    | OTHRINTAKS | APP INJ | EUTHANIZED        | HUMANE     | APP INJ  | SCAN CHIP    | FIELD            |\n| 4 | DOG | GERM SHEPHERD | AVAILABLE   | OWNER SURRENDER | APPOINT   | PERSNLISSU | APP WNL | TRANSFER          | GENERAL    | APP WNL  | SCAN CHIP    | OVER THE COUNTER |\n| 5 | DOG | SHEPHERD      | IMPOUNDED   | OWNER SURRENDER | URGENT    | MEDICAL    | APP INJ | EUTHANIZED        | MEDICAL    | APP SICK | SCAN CHIP    | FIELD            |\n| 6 | DOG | AUST SHEPHERD | UNAVAILABLE | STRAY           | CONFINED  | OTHRINTAKS | APP INJ | RETURNED TO OWNER | WESTMORELD | APP WNL  | SCAN CHIP    | FIELD            |\n\n",
            "text/latex": "A data.frame: 6 × 12\n\\begin{tabular}{r|llllllllllll}\n  & Animal\\_Type & Animal\\_Breed & Kennel\\_Status & Intake\\_Type & Intake\\_Subtype & Reason & Intake\\_Condition & Outcome\\_Type & Outcome\\_Subtype & Outcome\\_Condition & Chip\\_Status & Animal\\_Origin\\\\\n  & <fct> & <fct> & <fct> & <fct> & <fct> & <fct> & <fct> & <fct> & <fct> & <fct> & <fct> & <fct>\\\\\n\\hline\n\t1 & DOG & PIT BULL      & UNAVAILABLE & STRAY           & CONFINED  & OTHRINTAKS & APP WNL & TRANSFER          & MEDICAL    & APP SICK & SCAN NO CHIP & FIELD           \\\\\n\t2 & DOG & PIT BULL      & AVAILABLE   & TREATMENT       & SPAY/NEUT & SURGERY    & APP WNL & TREATMENT         & COMPLETED  & APP WNL  & SCAN CHIP    & OVER THE COUNTER\\\\\n\t3 & DOG & GERM SHEPHERD & IMPOUNDED   & OWNER SURRENDER & URGENT    & OTHRINTAKS & APP INJ & EUTHANIZED        & HUMANE     & APP INJ  & SCAN CHIP    & FIELD           \\\\\n\t4 & DOG & GERM SHEPHERD & AVAILABLE   & OWNER SURRENDER & APPOINT   & PERSNLISSU & APP WNL & TRANSFER          & GENERAL    & APP WNL  & SCAN CHIP    & OVER THE COUNTER\\\\\n\t5 & DOG & SHEPHERD      & IMPOUNDED   & OWNER SURRENDER & URGENT    & MEDICAL    & APP INJ & EUTHANIZED        & MEDICAL    & APP SICK & SCAN CHIP    & FIELD           \\\\\n\t6 & DOG & AUST SHEPHERD & UNAVAILABLE & STRAY           & CONFINED  & OTHRINTAKS & APP INJ & RETURNED TO OWNER & WESTMORELD & APP WNL  & SCAN CHIP    & FIELD           \\\\\n\\end{tabular}\n",
            "text/plain": [
              "  Animal_Type Animal_Breed  Kennel_Status Intake_Type     Intake_Subtype\n",
              "1 DOG         PIT BULL      UNAVAILABLE   STRAY           CONFINED      \n",
              "2 DOG         PIT BULL      AVAILABLE     TREATMENT       SPAY/NEUT     \n",
              "3 DOG         GERM SHEPHERD IMPOUNDED     OWNER SURRENDER URGENT        \n",
              "4 DOG         GERM SHEPHERD AVAILABLE     OWNER SURRENDER APPOINT       \n",
              "5 DOG         SHEPHERD      IMPOUNDED     OWNER SURRENDER URGENT        \n",
              "6 DOG         AUST SHEPHERD UNAVAILABLE   STRAY           CONFINED      \n",
              "  Reason     Intake_Condition Outcome_Type      Outcome_Subtype\n",
              "1 OTHRINTAKS APP WNL          TRANSFER          MEDICAL        \n",
              "2 SURGERY    APP WNL          TREATMENT         COMPLETED      \n",
              "3 OTHRINTAKS APP INJ          EUTHANIZED        HUMANE         \n",
              "4 PERSNLISSU APP WNL          TRANSFER          GENERAL        \n",
              "5 MEDICAL    APP INJ          EUTHANIZED        MEDICAL        \n",
              "6 OTHRINTAKS APP INJ          RETURNED TO OWNER WESTMORELD     \n",
              "  Outcome_Condition Chip_Status  Animal_Origin   \n",
              "1 APP SICK          SCAN NO CHIP FIELD           \n",
              "2 APP WNL           SCAN CHIP    OVER THE COUNTER\n",
              "3 APP INJ           SCAN CHIP    FIELD           \n",
              "4 APP WNL           SCAN CHIP    OVER THE COUNTER\n",
              "5 APP SICK          SCAN CHIP    FIELD           \n",
              "6 APP WNL           SCAN CHIP    FIELD           "
            ]
          },
          "metadata": {}
        }
      ],
      "source": [
        "head(df)"
      ]
    },
    {
      "cell_type": "code",
      "execution_count": 29,
      "metadata": {
        "colab": {
          "base_uri": "https://localhost:8080/",
          "height": 34
        },
        "id": "YXnzM91PELjZ",
        "outputId": "c4fb49d8-8132-4299-bcf0-5d1e343d8e26"
      },
      "outputs": [
        {
          "output_type": "display_data",
          "data": {
            "text/html": [
              "0.323435617603288"
            ],
            "text/markdown": "0.323435617603288",
            "text/latex": "0.323435617603288",
            "text/plain": [
              "[1] 0.3234356"
            ]
          },
          "metadata": {}
        }
      ],
      "source": [
        "bns <- hc(df, score = \"bic\")\n",
        "fitbn <- bn.fit(bns, data = df)\n",
        "cpquery(fitbn, event = (Outcome_Type == \"ADOPTION\"), evidence = (Animal_Type == \"DOG\"))"
      ]
    },
    {
      "cell_type": "code",
      "execution_count": 30,
      "metadata": {
        "colab": {
          "base_uri": "https://localhost:8080/",
          "height": 437
        },
        "id": "C7z8lnTsUXtB",
        "outputId": "d24aaf39-e673-4fb5-f1ac-76a7c78d1063"
      },
      "outputs": [
        {
          "output_type": "display_data",
          "data": {
            "text/plain": [
              "plot without title"
            ],
            "image/png": "[encoded data removed]"
          },
          "metadata": {
            "image/png": {
              "width": 420,
              "height": 420
            }
          }
        }
      ],
      "source": [
        "graphviz.plot(fitted_bn)"
      ]
    },
    {
      "cell_type": "markdown",
      "metadata": {
        "id": "SwlE9gY3a44X"
      },
      "source": [
        "Mostly Outcome type is the main source which impacts start in this dataset.\n",
        "\n",
        "---\n",
        "\n",
        "Next thing I will try is Model Selection – AIC, BIC, MSPE, R^2, Ra^2"
      ]
    },
    {
      "cell_type": "code",
      "execution_count": 31,
      "metadata": {
        "id": "V-ywn9UNOYok"
      },
      "outputs": [],
      "source": [
        "# Pre-Process data\n",
        "df <- read.csv(\"CleandAnimalShelter.csv\")\n",
        "df <- subset(df, select = -c(Intake_Date,Due_Out,Outcome_Date))\n",
        "cols <- c(\"Animal_Type\",\"Kennel_Status\", \"Intake_Type\", \"Intake_Subtype\",\n",
        "                    \"Outcome_Type\", \"Outcome_Subtype\", \"Intake_Condition\",\n",
        "                    \"Outcome_Condition\", \"Chip_Status\", \"Animal_Origin\",\"Reason\")\n",
        "df[cols] <- lapply(df[cols], factor)"
      ]
    },
    {
      "cell_type": "code",
      "execution_count": 32,
      "metadata": {
        "id": "5dbo85sNg7T7"
      },
      "outputs": [],
      "source": [
        "# build train/test data (80%/20%)\n",
        "trainsamples <- createDataPartition(df$Outcome_Type, p = 0.8, list = FALSE)\n",
        "train <- df[trainsamples, ]\n",
        "test <- df[-trainsamples, ]"
      ]
    },
    {
      "cell_type": "code",
      "execution_count": 33,
      "metadata": {
        "colab": {
          "base_uri": "https://localhost:8080/",
          "height": 0
        },
        "id": "MkbqOfgDnc-j",
        "outputId": "2b822265-31c4-47aa-c1b5-fec005255768"
      },
      "outputs": [
        {
          "output_type": "stream",
          "name": "stdout",
          "text": [
            "# weights:  169 (144 variable)\n",
            "initial  value 38779.469335 \n",
            "iter  10 value 28836.800984\n",
            "iter  20 value 25942.184494\n",
            "iter  30 value 24841.297153\n",
            "iter  40 value 24266.796138\n",
            "iter  50 value 24013.553568\n",
            "iter  60 value 23860.573808\n",
            "iter  70 value 23803.645535\n",
            "iter  80 value 23794.365647\n",
            "iter  90 value 23792.625402\n",
            "iter 100 value 23792.576792\n",
            "final  value 23792.576792 \n",
            "stopped after 100 iterations\n"
          ]
        }
      ],
      "source": [
        "# Because If I use all the datas, the model variable weights are way huge to analysis. So, I picked the most important things.\n",
        "model <- multinom(Outcome_Type ~ Animal_Type + Intake_Condition, data = train)"
      ]
    },
    {
      "cell_type": "code",
      "execution_count": 38,
      "metadata": {
        "colab": {
          "base_uri": "https://localhost:8080/",
          "height": 0
        },
        "id": "x00Gkg3snfrU",
        "outputId": "6980a8ad-8032-4398-b425-c8522b11135c"
      },
      "outputs": [
        {
          "output_type": "stream",
          "name": "stderr",
          "text": [
            "Warning message in Ops.factor(actual, predicted):\n",
            "“‘-’ not meaningful for factors”\n",
            "Warning message in sqrt(diag(vc)):\n",
            "“NaNs produced”\n",
            "Warning message in sqrt(diag(vc)):\n",
            "“NaNs produced”\n"
          ]
        }
      ],
      "source": [
        "# Calculate models.\n",
        "aic <- AIC(model)\n",
        "bic <- BIC(model)\n",
        "\n",
        "predictions <- predict(model, test, type = \"class\")\n",
        "mspe <- mse(test_data$Outcome_Type, predictions)\n",
        "\n",
        "r2 <- summary(model)$r.squared\n",
        "adjr2 <- summary(model)$adj.r.squared"
      ]
    },
    {
      "cell_type": "code",
      "execution_count": 39,
      "metadata": {
        "colab": {
          "base_uri": "https://localhost:8080/",
          "height": 104
        },
        "id": "4vU7qbHYq9KX",
        "outputId": "98c70445-3e8b-437d-d562-42e76c1335c4"
      },
      "outputs": [
        {
          "output_type": "display_data",
          "data": {
            "text/html": [
              "47873.1535843447"
            ],
            "text/markdown": "47873.1535843447",
            "text/latex": "47873.1535843447",
            "text/plain": [
              "[1] 47873.15"
            ]
          },
          "metadata": {}
        },
        {
          "output_type": "display_data",
          "data": {
            "text/html": [
              "48970.9674657818"
            ],
            "text/markdown": "48970.9674657818",
            "text/latex": "48970.9674657818",
            "text/plain": [
              "[1] 48970.97"
            ]
          },
          "metadata": {}
        },
        {
          "output_type": "display_data",
          "data": {
            "text/html": [
              "&lt;NA&gt;"
            ],
            "text/markdown": "&lt;NA&gt;",
            "text/latex": "<NA>",
            "text/plain": [
              "[1] NA"
            ]
          },
          "metadata": {}
        },
        {
          "output_type": "display_data",
          "data": {
            "text/plain": [
              "NULL"
            ]
          },
          "metadata": {}
        },
        {
          "output_type": "display_data",
          "data": {
            "text/plain": [
              "NULL"
            ]
          },
          "metadata": {}
        }
      ],
      "source": [
        "# Results\n",
        "aic\n",
        "bic\n",
        "mspe_value\n",
        "r2\n",
        "adjr2"
      ]
    },
    {
      "cell_type": "markdown",
      "metadata": {
        "id": "UwpzCXKhsuTj"
      },
      "source": [
        "Because my dataset is all categorical, It was impossible to calculate MSPE and R^2."
      ]
    },
    {
      "cell_type": "code",
      "execution_count": 36,
      "metadata": {
        "colab": {
          "base_uri": "https://localhost:8080/",
          "height": 0
        },
        "id": "UaSxTRSJsYAC",
        "outputId": "e20bc004-ae61-4bdc-c9c6-de5a88e91be9"
      },
      "outputs": [
        {
          "output_type": "stream",
          "name": "stdout",
          "text": [
            "Accuracy: 0.410236 \n"
          ]
        }
      ],
      "source": [
        "accuracy <- sum(predictions == test_data$Outcome_Type) / length(predictions)\n",
        "cat(\"Accuracy:\", accuracy, \"\\n\")"
      ]
    },
    {
      "cell_type": "markdown",
      "metadata": {
        "id": "G0ZNl33Cyv1X"
      },
      "source": [
        "High AIC/BIC\\\n",
        "These values suggest that the model might not be the best fit for the data. It could be due to overfitting, where the model is too complex and is capturing noise instead of the underlying pattern.\n",
        "\n",
        "Low Accuracy\\\n",
        "This might mean that this model has difficulty distinguishing between the classes in your outcome variable.\n",
        "The features used may not be good predictors of the outcome.\n",
        "The model might be too complex with high variance.\n",
        "The classes are imbalanced, and the model is biased toward the majority class or there might be noise in the data."
      ]
    },
    {
      "cell_type": "markdown",
      "metadata": {
        "id": "TJ4lZ63X2eCF"
      },
      "source": [
        "## Report/Summary\n",
        "In recent years, the plight of homeless animals has garnered increasing attention, compelling communities and individuals alike to take action. My personal interest in this issue stems from a profound commitment to animal welfare and a desire to see every pet housed in caring environment. This report focuses on the current state of animal shelters in Dallas, a city known for its large stray animal population and the community's robust efforts to manage it.\n",
        "\n",
        "The city of Dallas has long grappled with challenges related to animal homelessness, spurred by factors such as economic disparity, lack of pet owner education, and insufficient spay and neuter practices. These issues not only affect animal welfare but also public health and community safety, making it a multifaceted problem requiring comprehensive solutions. This includes efforts like adoption programs, public education campaigns, and the enforcement of pet registration laws. But before I run those programs, I have to face what is the reality of animal shelters.\n",
        "\n",
        "This dataset is pulled directly from Dallas Animal Services' Chameleon Database, which is used to track shelter and field operations, animal inventory and movement, animal intake and outcome, animal medical records, animal behavior observations, and animal microchip information. This dataset reflects data from October 1, 2021 to current-date. Data is subject to correction after the fact if data entry errors are detected or changes are made to fields within the database and therefore, data can have slight variances over time.\n",
        "\n",
        "Before cleaning, this dataset has 34,800 rows and 33 columns. But because there are lots of index-like numbers, and null columns and rows. I had to clean it to process stastical analysis. After cleaning process, I got 18,890 rows and 15 columns. The remaining columns and description is like this.\n",
        "\n",
        "*   Animal Type\\\n",
        "Animal category: dog, cat, wildlife, other, etc.\n",
        "\n",
        "*   Animal Breed\\\n",
        "Breed of the animal; typically a visual breed estimation.\n",
        "\n",
        "*   Kennel Status\\\n",
        "Availability of the animal.\n",
        "\n",
        "*   Intake Type\\\n",
        "Type or purpose of intake; used primarily to analyze intake trends.\n",
        "\n",
        "*   Intake Subtype\\\n",
        "Additional categorization of purpose of intake; used primarily to analyze intake trends.\n",
        "\n",
        "*   Reason\\\n",
        "Reason the animal was surrendered or taken in.\n",
        "\n",
        "*   Intake Date\\\n",
        "Date the animal was intaken by DAS.\n",
        "\n",
        "*   Due Out\\\n",
        "Date the animal's stray hold expires and animal will be available for non-return to owner outcomes; date DAS has full ownership of the animal based on city ordinance.\n",
        "\n",
        "*   Intake Condition\\\n",
        "Apparent medical condition of the animal when it was taken in by DAS.\n",
        "\n",
        "*   Outcome Type\\\n",
        "Final outcome of the animal if they are no longer under the care of DAS at the time of the report.\n",
        "\n",
        "*   Outcome Subtype\\\n",
        "Additional details on the outcome of the animal used primiarly for outcome trend analysis.\n",
        "\n",
        "*   Outcome Date\\\n",
        "Date the animal was outcomed by DAS / left DAS' care.\n",
        "\n",
        "*   Outcome Condition\\\n",
        "Apparent medical condition of the animal when it was released from DAS.\n",
        "\n",
        "*   Chip Status\\\n",
        "Notates whether staff were successful in scanning animal for a microchip.\n",
        "\n",
        "*   Animal Origin\\\n",
        "Notates whether the animal came in through DAS' Pet Support Lobby (Over the Counter) or through Field Services (Field).\n",
        "\n",
        "And because all of the datas are categorial and datetime, it was limited to use stastical analysis.\n",
        "\n",
        "The investigation into the factors affecting the outcomes of animals in a Dallas shelter presents a nuanced picture. Initially, the hypothesis that microchips increase the likelihood of animals being reunited with their owners was not supported by the data; p-values indicated that microchips may not significantly influence this outcome. This finding challenges common assumptions about the efficacy of microchipping in aiding lost pets' return.\n",
        "\n",
        "Furthermore, the health of animals was significantly correlated with adoption rates. Animals presenting as healthy or with minor, treatable conditions were more likely to be adopted, as indicated by low p-values for these categories. This suggests that potential adopters may prioritize the perceived health of animals, perhaps due to concerns about medical costs or a desire for a 'problem-free' pet.\n",
        "\n",
        "In contrast to expectations, the duration of an animal's stay at the shelter had a counterintuitive relationship with adoption likelihood. A shorter stay correlated with increased chances of adoption, dispelling the notion that longer shelter residence decreases an animal's prospects for finding a home.\n",
        "\n",
        "The Bayesian network analysis further indicated that 'Outcome Type' was a primary driver in the dataset, although the high AIC/BIC values from the generalized linear models caution against overfitting and signal the complexity of the shelter environment. The adoption probability for dogs, when factoring in all variables, stood at approximately 32.73%, a figure that could serve as a benchmark for future improvements in shelter operations.\n",
        "\n",
        "Despite the multifaceted insights gleaned, the model's overall accuracy was relatively low, suggesting that while certain patterns can be discerned, there remains a degree of unpredictability in animal shelter outcomes. This complexity underscores the multifaceted nature of animal welfare issues and suggests that there are more variables at play than those captured in the dataset.\n",
        "\n",
        "In conclusion, while microchips and duration of stay are not as significant as once thought, the health of the animals and the intricacies of the shelter's operational dynamics play critical roles in the outcomes of sheltered animals. These findings should inform strategies that prioritize the health and rapid rehoming of animals to increase the likelihood of positive outcomes."
      ]
    }
  ],
  "metadata": {
    "colab": {
      "provenance": []
    },
    "kernelspec": {
      "display_name": "R",
      "name": "ir"
    },
    "language_info": {
      "name": "R"
    }
  },
  "nbformat": 4,
  "nbformat_minor": 0
}